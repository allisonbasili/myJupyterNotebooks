{
 "cells": [
  {
   "cell_type": "code",
   "execution_count": 42,
   "metadata": {},
   "outputs": [],
   "source": [
    "import numpy as np\n",
    "from numpy.linalg import norm\n",
    "from scipy.spatial.distance import cdist"
   ]
  },
  {
   "cell_type": "code",
   "execution_count": 57,
   "metadata": {
    "scrolled": true
   },
   "outputs": [
    {
     "name": "stdout",
     "output_type": "stream",
     "text": [
      "Array C = [ 7 -7]\n",
      "\n",
      "Length of C = 2\n",
      "\n",
      "Eulidean Norm of vector A = 4.47213595499958\n",
      "\n",
      "Eulidean Norm of vector B = 5.830951894845301\n",
      "\n",
      "The metric, ||A-B||, = 9.899494936611665\n",
      "\n",
      "The dot product, A.B, = -22\n",
      "\n",
      "The cosine of theta between A and B = -0.8436614877321074\n",
      "\n",
      "The angle, theta, between A and B = 2.5748634360662868\n"
     ]
    }
   ],
   "source": [
    "A = np.array([4, -2])\n",
    "B = np.array([-3, 5])\n",
    "C = A - B\n",
    "print(\"Array C =\", C)\n",
    "print(\"\\nLength of C =\", len(C))\n",
    "print(\"\\nEulidean Norm of vector A =\", norm(A))\n",
    "print(\"\\nEulidean Norm of vector B =\", norm(B))\n",
    "print(\"\\nThe metric, ||A-B||, =\", norm(A-B, ord=2))\n",
    "print(\"\\nThe dot product, A.B, =\", np.dot(A, B))\n",
    "print(\"\\nThe cosine of theta between A and B =\", np.dot(A, B) / norm(A) / norm(B))\n",
    "print(\"\\nThe angle, theta, between A and B =\", np.arccos(np.dot(A, B) / norm(A) / norm(B)))"
   ]
  },
  {
   "cell_type": "code",
   "execution_count": null,
   "metadata": {},
   "outputs": [],
   "source": []
  }
 ],
 "metadata": {
  "kernelspec": {
   "display_name": "Python 3",
   "language": "python",
   "name": "python3"
  },
  "language_info": {
   "codemirror_mode": {
    "name": "ipython",
    "version": 3
   },
   "file_extension": ".py",
   "mimetype": "text/x-python",
   "name": "python",
   "nbconvert_exporter": "python",
   "pygments_lexer": "ipython3",
   "version": "3.8.5"
  }
 },
 "nbformat": 4,
 "nbformat_minor": 4
}

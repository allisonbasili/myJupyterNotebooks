{
 "cells": [
  {
   "cell_type": "code",
   "execution_count": 4,
   "metadata": {},
   "outputs": [
    {
     "name": "stdout",
     "output_type": "stream",
     "text": [
      "Array C = [  -2.16  -27.     19.     46.5  -108.  ]\n",
      "\n",
      "Length of C = 5\n",
      "\n",
      "Eulidean Norm of vector A = 43.139309220245984\n",
      "\n",
      "Eulidean Norm of vector B = 111.13161386392262\n",
      "\n",
      "The metric, ||A-B||, = 122.1511997485084\n",
      "\n",
      "The dot product, A.B, = -354.84000000000003\n",
      "\n",
      "The cosine of theta between A and B = -0.07401534413719321\n",
      "\n",
      "The angle, theta, between A and B = 1.6448794174297847\n"
     ]
    }
   ],
   "source": [
    "import numpy as np\n",
    "from numpy.linalg import norm\n",
    "from scipy.spatial.distance import cdist\n",
    "\n",
    "A = np.array([1, -2, 16, 40, 0])\n",
    "B = np.array([3.16, 25, -3, -6.5, 108])\n",
    "C = A - B\n",
    "print(\"Array C =\", C)\n",
    "print(\"\\nLength of C =\", len(C))\n",
    "print(\"\\nEulidean Norm of vector A =\", norm(A))\n",
    "print(\"\\nEulidean Norm of vector B =\", norm(B))\n",
    "print(\"\\nThe metric, ||A-B||, =\", norm(A-B, ord=2))\n",
    "print(\"\\nThe dot product, A.B, =\", np.dot(A, B))\n",
    "print(\"\\nThe cosine of theta between A and B =\", np.dot(A, B) / norm(A) / norm(B))\n",
    "print(\"\\nThe angle, theta, between A and B =\", np.arccos(np.dot(A, B) / norm(A) / norm(B)))\n",
    "       "
   ]
  },
  {
   "cell_type": "code",
   "execution_count": null,
   "metadata": {},
   "outputs": [],
   "source": []
  },
  {
   "cell_type": "code",
   "execution_count": null,
   "metadata": {},
   "outputs": [],
   "source": []
  }
 ],
 "metadata": {
  "kernelspec": {
   "display_name": "Python 3",
   "language": "python",
   "name": "python3"
  },
  "language_info": {
   "codemirror_mode": {
    "name": "ipython",
    "version": 3
   },
   "file_extension": ".py",
   "mimetype": "text/x-python",
   "name": "python",
   "nbconvert_exporter": "python",
   "pygments_lexer": "ipython3",
   "version": "3.8.5"
  }
 },
 "nbformat": 4,
 "nbformat_minor": 4
}

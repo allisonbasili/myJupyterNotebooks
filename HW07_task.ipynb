{
 "cells": [
  {
   "cell_type": "markdown",
   "metadata": {},
   "source": [
    "# Hand-Made Central Limit Theorem"
   ]
  },
  {
   "cell_type": "code",
   "execution_count": null,
   "metadata": {},
   "outputs": [],
   "source": [
    "import numpy as np\n",
    "import matplotlib.pyplot as plt\n",
    "import scipy.stats as sts\n",
    "import math\n",
    "%matplotlib inline"
   ]
  },
  {
   "cell_type": "markdown",
   "metadata": {},
   "source": [
    "Central Limit Theorem says that if we have a distribution $F(X)$ with expected value $\\mu$ and dispersion $\\sigma^2$,  and we select $n$  i.i.d. random variables $X_1, X_2, ..., X_n$, then their mean $\\bar{X}$ is distributied normally with dispersion  $\\sigma^2/n$ and mean $\\mu$:\n",
    "\n",
    "$$\\bar{X}_n \\approx N(\\mathbb{E}\\mu, \\sigma^2 / n)$$"
   ]
  },
  {
   "cell_type": "markdown",
   "metadata": {},
   "source": [
    "Let us check if it really so for the case when $F(X)$ is a uniform distribution:"
   ]
  },
  {
   "cell_type": "markdown",
   "metadata": {},
   "source": [
    "Define uniform distribution from a to b:"
   ]
  },
  {
   "cell_type": "code",
   "execution_count": 2,
   "metadata": {},
   "outputs": [
    {
     "data": {
      "text/plain": [
       "array([4.59543955, 2.89668603, 2.58515654, 4.15690663, 4.14349152,\n",
       "       1.81193717, 2.93797509, 1.23475795, 3.01402926, 2.18213412])"
      ]
     },
     "execution_count": 2,
     "metadata": {},
     "output_type": "execute_result"
    }
   ],
   "source": [
    "a = 1\n",
    "b = 5\n",
    "\n",
    "uniform_rv = sts.uniform(a, b-a)\n",
    "\n",
    "uniform_rv.rvs(10)"
   ]
  },
  {
   "cell_type": "markdown",
   "metadata": {},
   "source": [
    "**Task 1**. Plot the probability density function of the uniform distribution:"
   ]
  },
  {
   "cell_type": "code",
   "execution_count": 5,
   "metadata": {},
   "outputs": [
    {
     "data": {
      "text/plain": [
       "Text(0.5, 0, '$x$')"
      ]
     },
     "execution_count": 5,
     "metadata": {},
     "output_type": "execute_result"
    },
    {
     "data": {
      "image/png": "[encoded data removed]",
      "text/plain": [
       "<Figure size 432x288 with 1 Axes>"
      ]
     },
     "metadata": {
      "needs_background": "light"
     },
     "output_type": "display_data"
    }
   ],
   "source": [
    "x = np.linspace(0,6,1000)\n",
    "pdf = uniform_rv.pdf(x)\n",
    "plt.plot(x, pdf)\n",
    "\n",
    "plt.ylabel('$f(x)$')\n",
    "plt.xlabel('$x$')"
   ]
  },
  {
   "cell_type": "markdown",
   "metadata": {},
   "source": [
    "We are going to create *samples_no = 1000* sets of the size *n = 50* and calculate mean $\\bar{X}$ of each sample and store the results in the vector *sample_means*:"
   ]
  },
  {
   "cell_type": "code",
   "execution_count": null,
   "metadata": {},
   "outputs": [],
   "source": [
    "samples_no = 1000"
   ]
  },
  {
   "cell_type": "code",
   "execution_count": null,
   "metadata": {},
   "outputs": [],
   "source": [
    "n = 50\n",
    "sample_means = np.empty(samples_no)"
   ]
  },
  {
   "cell_type": "markdown",
   "metadata": {},
   "source": [
    "**Task 2**: Create a cycle for *i* from 0 to *samples_no*, in which you create a sample of the size *n*, calculate the mean of the sample and store its value in the vector *sample_means*"
   ]
  },
  {
   "cell_type": "code",
   "execution_count": null,
   "metadata": {},
   "outputs": [],
   "source": [
    "i = 0\n",
    "while i <= samples_no:\n",
    "    sample = mean(np.random.choice(range(1,101), size = n)\n",
    "    np.append(sample_means, sample)\n",
    "    i=i+1\n"
   ]
  },
  {
   "cell_type": "markdown",
   "metadata": {},
   "source": [
    "**Task 3:** plot histogram of the vector sample_means. It should have a bell-like shape:"
   ]
  },
  {
   "cell_type": "code",
   "execution_count": null,
   "metadata": {
    "scrolled": true
   },
   "outputs": [],
   "source": [
    "plt.hist(sample_means, density = True)\n",
    "plt.xlabel('$x$')\n",
    "plt.ylabel('Fraction of Samples')\n",
    "\n",
    "#You should get something like this:"
   ]
  },
  {
   "cell_type": "markdown",
   "metadata": {},
   "source": [
    "You are going to compare the obtained histogram from Task 3 with the normal distribution"
   ]
  },
  {
   "cell_type": "markdown",
   "metadata": {},
   "source": [
    "**Task 4:** Create a normal distribution such, that it will be a distribution of the data you store in the vector *sample_means* and plot its density distribution function. Hint: to do that, you should know the **theoretical** expected value (i.e. mean) and dispersion (i.e. variance) of your initial uniform distribution. Look it up in Wikipedia."
   ]
  },
  {
   "cell_type": "code",
   "execution_count": null,
   "metadata": {},
   "outputs": [],
   "source": [
    "mu = mean(sample_means)\n",
    "sigma = variance(sample_means)\n",
    "\n",
    "norm_rv = sts.norm(loc=mu, scale = sigma)\n",
    "\n",
    "norm_rv.rvs(size = 10)\n",
    "\n",
    "x = np.linspace(0,4,100)\n",
    "rvs = norm_rv.rvs(x)\n",
    "plt.plot(x, rvs)\n",
    "plt.ylabel('$F(x)$')\n",
    "plt.ylabel('$x$')\n",
    "\n"
   ]
  },
  {
   "cell_type": "markdown",
   "metadata": {},
   "source": [
    "**Task 5** Plot the histogram from Task 3 and the distribution density function from Task 4 *in the same Graph*. Do they look similar?"
   ]
  },
  {
   "cell_type": "code",
   "execution_count": 52,
   "metadata": {},
   "outputs": [
    {
     "data": {
      "text/plain": [
       "Text(0.5, 0, '$x$')"
      ]
     },
     "execution_count": 52,
     "metadata": {},
     "output_type": "execute_result"
    },
    {
     "data": {
      "image/png": "[encoded data removed]",
      "text/plain": [
       "<Figure size 432x288 with 1 Axes>"
      ]
     },
     "metadata": {
      "needs_background": "light"
     },
     "output_type": "display_data"
    }
   ],
   "source": [
    "#your code here\n",
    "\n",
    "\n",
    "#you should obtain something like this:"
   ]
  }
 ],
 "metadata": {
  "kernelspec": {
   "display_name": "Python 3",
   "language": "python",
   "name": "python3"
  },
  "language_info": {
   "codemirror_mode": {
    "name": "ipython",
    "version": 3
   },
   "file_extension": ".py",
   "mimetype": "text/x-python",
   "name": "python",
   "nbconvert_exporter": "python",
   "pygments_lexer": "ipython3",
   "version": "3.8.5"
  }
 },
 "nbformat": 4,
 "nbformat_minor": 5
}
